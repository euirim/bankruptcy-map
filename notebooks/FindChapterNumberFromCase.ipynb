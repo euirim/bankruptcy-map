{
 "cells": [
  {
   "cell_type": "code",
   "execution_count": 92,
   "metadata": {},
   "outputs": [],
   "source": [
    "import sys\n",
    "import os\n",
    "sys.path.append(\"..\")\n",
    "from utils.case import Case, DocketEntry, Document, Party\n",
    "\n",
    "DATA_LOCATION = \"../data/samples_5000\"\n",
    "\n",
    "case_files = []\n",
    "for file in os.listdir(DATA_LOCATION):\n",
    "    if file.endswith(\".json\"):\n",
    "        case_files.append(os.path.join(DATA_LOCATION, file))"
   ]
  },
  {
   "cell_type": "code",
   "execution_count": 93,
   "metadata": {},
   "outputs": [
    {
     "data": {
      "text/plain": [
       "7"
      ]
     },
     "execution_count": 93,
     "metadata": {},
     "output_type": "execute_result"
    }
   ],
   "source": [
    "#Returns chapter of a case based on the voluntary petition for that case\n",
    "def FindChapterNumberFromCase(case):\n",
    "    for entry in case.get_entries():\n",
    "        descr = entry.get_description()\n",
    "        if(\"petition\" in descr.lower()):\n",
    "            if(\"chapter 7\" in descr.lower()):\n",
    "                return 7\n",
    "            elif(\"chapter 11\" in descr.lower()):\n",
    "                return 11\n",
    "            elif(\"chapter 12\" in descr.lower()):\n",
    "                return 12\n",
    "            elif(\"chapter 13\" in descr.lower()):\n",
    "                return 13\n",
    "            elif(\"chapter 15\" in descr.lower()):\n",
    "                return 15\n",
    "        else:\n",
    "            for doc in entry.documents:\n",
    "                doc_descr = doc.get_description()\n",
    "                if(\"petition\" in doc_descr.lower()):\n",
    "                    if(\"chapter 7\" in doc_descr.lower()):\n",
    "                        return 7\n",
    "                    elif(\"chapter 11\" in doc_descr.lower()):\n",
    "                        return 11\n",
    "                    elif(\"chapter 12\" in doc_descr.lower()):\n",
    "                        return 12\n",
    "                    elif(\"chapter 13\" in doc_descr.lower()):\n",
    "                        return 13\n",
    "                    elif(\"chapter 15\" in doc_descr.lower()):\n",
    "                        return 15\n",
    "                                \n",
    "    #In the case no chapter is found, return None\n",
    "    return None\n",
    "            \n",
    "#Example with a chapter 11 case:\n",
    "FindChapterNumberFromCase(Case(\"../data/samples_5000/7325782.json\"))"
   ]
  },
  {
   "cell_type": "code",
   "execution_count": 95,
   "metadata": {},
   "outputs": [
    {
     "name": "stdout",
     "output_type": "stream",
     "text": [
      "1622\n",
      "50\n",
      "2\n",
      "934\n",
      "1\n",
      "2391\n"
     ]
    }
   ],
   "source": [
    "#Show chapter breakdown of data.\n",
    "output = []\n",
    "ch7 = 0\n",
    "ch11 = 0\n",
    "ch12 = 0\n",
    "ch13 = 0\n",
    "ch15 = 0\n",
    "none = 0\n",
    "for fn in case_files:\n",
    "    case = Case(fn)\n",
    "    chnum = FindChapterNumberFromCase(case)\n",
    "    if chnum == 7:\n",
    "        ch7+=1\n",
    "    elif chnum == 11:\n",
    "        ch11+=1\n",
    "    elif chnum == 12:\n",
    "        ch12+=1\n",
    "    elif chnum == 13:\n",
    "        ch13+=1\n",
    "    elif chnum == 15:\n",
    "        ch15+=1\n",
    "    elif chnum == None:\n",
    "        none+=1\n",
    "print(ch7)\n",
    "print(ch11)\n",
    "print(ch12)\n",
    "print(ch13)\n",
    "print(ch15)\n",
    "print(none)"
   ]
  },
  {
   "cell_type": "code",
   "execution_count": null,
   "metadata": {},
   "outputs": [],
   "source": []
  }
 ],
 "metadata": {
  "kernelspec": {
   "display_name": "Python 3",
   "language": "python",
   "name": "python3"
  },
  "language_info": {
   "codemirror_mode": {
    "name": "ipython",
    "version": 3
   },
   "file_extension": ".py",
   "mimetype": "text/x-python",
   "name": "python",
   "nbconvert_exporter": "python",
   "pygments_lexer": "ipython3",
   "version": "3.7.4"
  }
 },
 "nbformat": 4,
 "nbformat_minor": 2
}
