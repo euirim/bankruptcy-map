{
 "cells": [
  {
   "cell_type": "code",
   "execution_count": 2,
   "metadata": {},
   "outputs": [],
   "source": [
    "import sys\n",
    "import os\n",
    "sys.path.append(\"..\")\n",
    "from utils.case import Case, DocketEntry, Document, Party\n",
    "\n",
    "DATA_LOCATION = \"../data/samples\"\n",
    "\n",
    "case_files = []\n",
    "for file in os.listdir(DATA_LOCATION):\n",
    "    if file.endswith(\".json\"):\n",
    "        case_files.append(os.path.join(DATA_LOCATION, file))"
   ]
  },
  {
   "cell_type": "code",
   "execution_count": 3,
   "metadata": {},
   "outputs": [
    {
     "data": {
      "text/plain": [
       "11"
      ]
     },
     "execution_count": 3,
     "metadata": {},
     "output_type": "execute_result"
    }
   ],
   "source": [
    "#Returns chapter of a case based on the voluntary petition for that case\n",
    "def FindChapterNumberFromCase(case):\n",
    "    for entry in case.get_entries():\n",
    "        descr = entry.get_description()\n",
    "        if(\"Voluntary Petition\" in descr):\n",
    "            if(\"Chapter 7\" in descr):\n",
    "                return 7\n",
    "            elif(\"Chapter 11\" in descr):\n",
    "                return 11\n",
    "            elif(\"Chapter 12\" in descr):\n",
    "                return 12\n",
    "            elif(\"Chapter 13\" in descr):\n",
    "                return 13\n",
    "            elif(\"Chapter 15\" in descr):\n",
    "                return 15\n",
    "            \n",
    "#Example with a chapter 11 case:\n",
    "FindChapterNumberFromCase(Case(\"../data/samples/4303283.json\"))"
   ]
  },
  {
   "cell_type": "code",
   "execution_count": null,
   "metadata": {},
   "outputs": [],
   "source": []
  }
 ],
 "metadata": {
  "kernelspec": {
   "display_name": "Python 3",
   "language": "python",
   "name": "python3"
  },
  "language_info": {
   "codemirror_mode": {
    "name": "ipython",
    "version": 3
   },
   "file_extension": ".py",
   "mimetype": "text/x-python",
   "name": "python",
   "nbconvert_exporter": "python",
   "pygments_lexer": "ipython3",
   "version": "3.7.4"
  }
 },
 "nbformat": 4,
 "nbformat_minor": 2
}
