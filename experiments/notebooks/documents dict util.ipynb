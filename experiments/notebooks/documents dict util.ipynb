{
 "cells": [
  {
   "cell_type": "code",
   "execution_count": 26,
   "metadata": {
    "scrolled": true
   },
   "outputs": [
    {
     "name": "stdout",
     "output_type": "stream",
     "text": [
      "done\n"
     ]
    }
   ],
   "source": [
    "# this function reads all the documents into a dictionary that maps a list of documents to the case ID.\n",
    "\n",
    "import sys\n",
    "import os\n",
    "sys.path.append(\"..\")\n",
    "from utils.case import Case, DocketEntry, Document, Party\n",
    "\n",
    "DATA_LOCATION = \"../data/samples\"\n",
    "\n",
    "case_files = []\n",
    "for file in os.listdir(DATA_LOCATION):\n",
    "    if file.endswith(\".json\"):\n",
    "        case_files.append(os.path.join(DATA_LOCATION, file))\n",
    "\n",
    "documents = {}\n",
    "i = 0\n",
    "for fn in case_files:\n",
    "    case = Case(fn)\n",
    "    for entry in case.get_entries():\n",
    "        caseID = case.get_id()\n",
    "        for doc in entry.documents:\n",
    "            doc.download()\n",
    "            if (doc.text == None):\n",
    "                continue\n",
    "            if caseID in documents:\n",
    "                documents[caseID].append(doc.text)\n",
    "            else:\n",
    "                doclist = []\n",
    "                doclist.append(doc.text)\n",
    "                documents[caseID] = doclist\n",
    "print(\"done\")"
   ]
  },
  {
   "cell_type": "code",
   "execution_count": 29,
   "metadata": {},
   "outputs": [
    {
     "name": "stdout",
     "output_type": "stream",
     "text": [
      "bankruptcy\n",
      "Elnor L. Henderson\n",
      "Shaunte Domanique Cameron\n",
      "Gunboat International, Ltd.\n",
      "Gunboat International, Ltd.\n",
      "Rena Sanders\n",
      "Monique M Harris\n",
      "Pirinate Consulting Group LLC, as Litigation Trust v. Trinseo LLC\n",
      "Tabitha Sue Berryhill\n",
      "Randolph Bernard Broyard, Sr and Kimberlie Alethia Broyard\n"
     ]
    }
   ],
   "source": [
    "#example usage of the documents dict.\n",
    "\n",
    "DATA_LOCATION = \"../data/samples\"\n",
    "\n",
    "case_files = []\n",
    "for file in os.listdir(DATA_LOCATION):\n",
    "    if file.endswith(\".json\"):\n",
    "        case_files.append(os.path.join(DATA_LOCATION, file))\n",
    "\n",
    "    \n",
    "keyword = input()\n",
    "i = 0\n",
    "for fn in case_files:\n",
    "    case = Case(fn)\n",
    "    caseID = case.get_id()\n",
    "    if caseID in documents:\n",
    "        for doc in documents[caseID]:\n",
    "            \n",
    "            if keyword in doc:\n",
    "                print(case.get_case_name())\n",
    "            \n",
    "                \n",
    "\n"
   ]
  },
  {
   "cell_type": "code",
   "execution_count": null,
   "metadata": {},
   "outputs": [],
   "source": []
  },
  {
   "cell_type": "code",
   "execution_count": null,
   "metadata": {},
   "outputs": [],
   "source": []
  }
 ],
 "metadata": {
  "kernelspec": {
   "display_name": "Python 3",
   "language": "python",
   "name": "python3"
  },
  "language_info": {
   "codemirror_mode": {
    "name": "ipython",
    "version": 3
   },
   "file_extension": ".py",
   "mimetype": "text/x-python",
   "name": "python",
   "nbconvert_exporter": "python",
   "pygments_lexer": "ipython3",
   "version": "3.7.4"
  }
 },
 "nbformat": 4,
 "nbformat_minor": 2
}
