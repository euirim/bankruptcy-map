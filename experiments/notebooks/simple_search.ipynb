{
 "cells": [
  {
   "cell_type": "code",
   "execution_count": 95,
   "metadata": {},
   "outputs": [],
   "source": [
    "import sys\n",
    "import os\n",
    "sys.path.append(\"..\")\n",
    "from utils.case import Case, DocketEntry, Document, Party\n",
    "\n",
    "DATA_LOCATION = \"../data/samples\"\n",
    "\n",
    "case_files = []\n",
    "for file in os.listdir(DATA_LOCATION):\n",
    "    if file.endswith(\".json\"):\n",
    "        case_files.append(os.path.join(DATA_LOCATION, file))"
   ]
  },
  {
   "cell_type": "code",
   "execution_count": 98,
   "metadata": {},
   "outputs": [
    {
     "name": "stdout",
     "output_type": "stream",
     "text": [
      "chapter 11\n",
      "../data/samples/4303283.json\n",
      "../data/samples/4303283.json\n",
      "../data/samples/4303283.json\n",
      "Case ID:  4303283\n",
      "Case description:  Chapter 11 Voluntary Petition filed by Gunboat International, Ltd. (Stubbs, Trawick) **Amended 20 Largest Unsecured Creditors 34** Modified on 12/1/2015 (Brock, Anna). (Entered: 11/18/2015) \n",
      "\n",
      "Case ID:  4303283\n",
      "Case description:  Order to File Plan and Disclosure Statement and Notice of Status Conference . Chapter 11 Plan due by 2/16/2016. Disclosure Statement due by 2/16/2016. Status hearing to be held on 12/14/2015 at 10:30 AM at Telephone Conference/Judge Warren. (Moell, Anne) (Entered: 11/18/2015) \n",
      "\n",
      "Case ID:  4303283\n",
      "Case description:  Certificate of Service filed by Trawick H Stubbs Jr. on behalf of Gunboat International, Ltd. (RE: related document(s)35 Summary of Schedules, Schedule A - Real Property, Schedule B - Personal Property, Schedule D - Creditors Holding Secured Claims, Schedule E - Creditors Holding Unsecured Priority Claims, Schedule F - Creditors Holding Unsecured Nonpriority Claims, Schedule G, Schedule H, Statement of Financial Affairs). (Stubbs, Trawick). **Corrective Entry: Certificate of Service filed by Trawick H Stubbs Jr. on behalf of Gunboat International, Ltd. (RE: related document(s)7 Meeting of Creditors Chapter 11, 35 Summary of Schedules, Schedule A - Real Property, Schedule B - Personal Property, Schedule D - Creditors Holding Secured Claims, Schedule E - Creditors Holding Unsecured Priority Claims, Schedule F - Creditors Holding Unsecured Nonpriority Claims, Schedule G, Schedule H, Statement of Financial Affairs).** Modified on 12/4/2015 (Shum-Drake, Kelly). (Entered: 12/02/2015) \n",
      "\n"
     ]
    }
   ],
   "source": [
    "#Search through descriptions for direct match with keyword\n",
    "keyword = input()\n",
    "output = []\n",
    "for fn in case_files:\n",
    "    case = Case(fn)\n",
    "    for entry in case.get_entries():\n",
    "        descr = entry.get_description()\n",
    "        if(keyword.lower() in descr.lower()):\n",
    "            item = []\n",
    "            item.append(descr)\n",
    "            item.append(case.get_id())\n",
    "            output.append(item)\n",
    "for case in output:\n",
    "    print(\"Case ID: \", case[1])\n",
    "    print(\"Case description: \", case[0], \"\\n\")"
   ]
  },
  {
   "cell_type": "code",
   "execution_count": 93,
   "metadata": {},
   "outputs": [
    {
     "name": "stdout",
     "output_type": "stream",
     "text": [
      "Meakisz\n"
     ]
    }
   ],
   "source": [
    "#Search through the documents themselves for direct match with keyword - WARNING is slow!\n",
    "keyword = input()\n",
    "for fn in case_files:\n",
    "    case = Case(fn)\n",
    "    for entry in case.get_entries():\n",
    "        for doc in entry.documents:\n",
    "            doc.download()\n",
    "            if(isinstance(doc.text, str)):\n",
    "                if(keyword in doc.text):\n",
    "                    print(\"Case ID: \")\n",
    "                    print(case.get_id())\n",
    "                    print(\"Docket Description: \")\n",
    "                    print(entry.get_description())"
   ]
  },
  {
   "cell_type": "code",
   "execution_count": 101,
   "metadata": {},
   "outputs": [
    {
     "name": "stdout",
     "output_type": "stream",
     "text": [
      "Chapter 7 Voluntary Petitions: \n",
      "\n",
      "Case ID:  15542835\n",
      "Case description:  Chapter 7 Voluntary Petition for Individual Fee Amount $335, Filed by Jason M Shimotake on behalf of Shaunte Domanique Cameron (Shimotake, Jason) (Entered: 10/20/2016) \n",
      "\n",
      "Case ID:  15425657\n",
      "Case description:  Chapter 7 Voluntary Petition Fee Amount $306, Filed by Jonathan D Parker on behalf of Rena Sanders (Parker, Jonathan) (Entered: 01/13/2014) \n",
      "\n",
      "Case ID:  15279334\n",
      "Case description:  Chapter 7 Voluntary Petition Fee Amount $299, Filed by Thayer C Torgerson on behalf of Julia Henriquez (Torgerson, Thayer) (Entered: 02/08/2011) \n",
      "\n",
      "Case ID:  15263980\n",
      "Case description:  Chapter 7 Voluntary Petition Fee Amount $299, Filed by Joseph Dowd on behalf of William H Miller, June M Miller (Dowd, Joseph) Modified on 10/25/2010 to add alias Best Aviation Sales, Inc (Rafacz, Lisa). (Entered: 10/24/2010) \n",
      "\n",
      "Case ID:  15357734\n",
      "Case description:  Chapter 7 Voluntary Petition Fee Amount $306, Filed by Lawrence W Lobb on behalf of Peter Ansis Muiznieks, Michelle Jolie Muiznieks (Lobb, Lawrence) (Entered: 08/03/2012) \n",
      "\n",
      "Case ID:  15366953\n",
      "Case description:  Chapter 7 Voluntary Petition Fee Amount $306, Filed by Neidra M Crosby (Rafacz, Lisa) (Entered: 10/11/2012) \n",
      "\n",
      "Case ID:  15612104\n",
      "Case description:  Chapter 7 Voluntary Petition Fee Amount $306, Filed by Michael C Downey on behalf of Robert W Voorhies (Downey, Michael) (Entered: 08/16/2013) \n",
      "\n",
      "Case ID:  15553397\n",
      "Case description:  Chapter 7 Voluntary Petition for Individual Fee Amount $335, Filed by Andrew G Youra on behalf of Robert M Horn (Attachments: # 1 Signature Pages) (Youra, Andrew) (Entered: 03/03/2017) \n",
      "\n",
      "Case ID:  15552441\n",
      "Case description:  Chapter 7 Voluntary Petition for Individual Fee Amount $335, Filed by Nathan E Delman on behalf of Donna Mitchell (Delman, Nathan) (Entered: 02/23/2017) \n",
      "\n",
      "Case ID:  15593734\n",
      "Case description:  Chapter 7 Voluntary Petition Fee Amount $299, Filed by Jeffry A. Dahlberg on behalf of Michael C Ruffcorn Jr., Carissa L Ruffcorn (Dahlberg, Jeffry) (Entered: 06/04/2009) \n",
      "\n",
      "Case ID:  14748580\n",
      "Case description:  Chapter 7 Voluntary Petition for Individuals . Fee Amount $335 Filed by Ruben Ray Rhoades Sr., Elizabeth Dara Rhoades (Bates, John aty) (Entered: 03/19/2019) \n",
      "\n",
      "Case ID:  15380660\n",
      "Case description:  Chapter 7 Voluntary Petition Fee Amount $306, Filed by Thomas W Lynch on behalf of Martin Buckley (Lynch, Thomas) (Entered: 01/30/2013) \n",
      "\n",
      "\n",
      "Chapter 11 Voluntary Petitions: \n",
      "\n",
      "Case ID:  4303283\n",
      "Case description:  Chapter 11 Voluntary Petition filed by Gunboat International, Ltd. (Stubbs, Trawick) **Amended 20 Largest Unsecured Creditors 34** Modified on 12/1/2015 (Brock, Anna). (Entered: 11/18/2015) \n",
      "\n",
      "\n",
      "Chapter 13 Voluntary Petitions: \n",
      "\n",
      "Case ID:  7256947\n",
      "Case description:  Chapter 13 Voluntary Petition Fee Amount $281, Filed by Jamie F Reisman on behalf of Rosa Altamirano, Edwin G. Ramirez Government Proof of Claim due by 12/24/2013.Chapter 13 Plan due by 07/11/2013. (Reisman, Jamie) (Entered: 06/27/2013) \n",
      "\n",
      "Case ID:  6939872\n",
      "Case description:  Chapter 13 Voluntary Petition Fee Amount $310, Filed by Rodion Leshinsky on behalf of Darrell Lathan, Phyllis Lathan Government Proof of Claim due by 04/26/2016.Chapter 13 Plan due by 11/12/2015. (Attachments: # 1 Signature Pages) (Leshinsky, Rodion) (Entered: 10/29/2015) \n",
      "\n",
      "Case ID:  15542032\n",
      "Case description:  Chapter 13 Voluntary Petition for an Individual Fee Amount $77.50, Filed by Janet E Minton Government Proof of Claim due by 4/10/2017.Chapter 13 Plan due by 10/26/2016. (Dixon, Lisa) (Entered: 10/12/2016) \n",
      "\n",
      "Case ID:  4571174\n",
      "Case description:  Chapter 13 Voluntary Petition Individual Filed by Mark Anthony Weems, Stephanie Anne Weems. Government Proof of Claim due by 4/10/2017. (Graham, Jerry) (Entered: 10/10/2016) \n",
      "\n",
      "Case ID:  15354495\n",
      "Case description:  Chapter 13 Voluntary Petition Fee Amount $281, Filed by Rigoberto Garcia on behalf of Monique M Harris Government Proof of Claim due by 01/8/2013.Chapter 13 Plan due by 07/26/2012. (Garcia, Rigoberto) (Entered: 07/12/2012) \n",
      "\n",
      "Case ID:  15257641\n",
      "Case description:  Chapter 13 Voluntary Petition Fee Amount $274, Filed by Patrick J. Semrad on behalf of Javanta C Green Government Proof of Claim due by 03/14/2011.Chapter 13 Plan due by 09/28/2010. (Semrad, Patrick) (Entered: 09/14/2010) \n",
      "\n",
      "Case ID:  6746970\n",
      "Case description:  Chapter 13 Voluntary Petition Fee Amount $310, Filed by Laura R Caputo on behalf of Tabitha Sue Berryhill Government Proof of Claim due by 04/20/2015.Chapter 13 Plan due by 11/3/2014. (Caputo, Laura) (Entered: 10/20/2014) \n",
      "\n",
      "Case ID:  6723428\n",
      "Case description:  Chapter 13 Voluntary Petition for an Individual Fee Amount $310, Filed by Geraldine Silas Chapter 13 Plan due by 5/30/2018. (Ruiz, Rosario) (Entered: 05/16/2018) \n",
      "\n",
      "Case ID:  14628913\n",
      "Case description:  Individual Chapter 13 Voluntary Petition . Fee Amount $310. Filed by Randolph Bernard Broyard Sr, Kimberlie Alethia Broyard (Allmand, Weldon) \n",
      "\n",
      "Case ID:  4553420\n",
      "Case description:  Chapter 13 Voluntary Petition, All Schedules and Statements Fee Amount $281(Case Upload) filed by Frances Hoit Hollinger on behalf of Anthony M. Humphries. (Hollinger, Frances) (Entered: 03/14/2014) \n",
      "\n",
      "Case ID:  5957\n",
      "Case description:  Voluntary Petition under Chapter 13 (Individual) Without Schedules, Without Statements, ( Filing Fee: $ 310 ) Filed By Drew Garret Washington. -Declaration for Electronic Filing due by 01/4/2019 (Taylor, Susan) \n",
      "\n",
      "Case ID:  15363608\n",
      "Case description:  Chapter 13 Voluntary Petition Fee Amount $0.00, Filed by Heather Diane Meakisz Government Proof of Claim due by 3/18/2013.Chapter 13 Plan due by 10/2/2012. (Armstead, Cynthia) (Entered: 09/18/2012) \n",
      "\n",
      "Case ID:  15430722\n",
      "Case description:  Chapter 13 Voluntary Petition Fee Amount $281, Filed by Charles R Bonini on behalf of Willie Dunn Government Proof of Claim due by 08/20/2014.Chapter 13 Plan due by 03/7/2014. (Bonini, Charles) (Entered: 02/21/2014) \n",
      "\n"
     ]
    }
   ],
   "source": [
    "#Aggregate all Chapter 7, 11, and 13 cases\n",
    "ch11_vp = []\n",
    "ch7_vp = []\n",
    "ch13_vp = []\n",
    "for fn in case_files:\n",
    "    case = Case(fn)\n",
    "    for entry in case.get_entries():\n",
    "        descr = entry.get_description()\n",
    "        if(\"Voluntary Petition\" in descr):\n",
    "            if(\"Chapter 11\" in descr):\n",
    "                item = []\n",
    "                item.append(descr)\n",
    "                item.append(case.get_id())\n",
    "                ch11_vp.append(item)\n",
    "                break\n",
    "            elif(\"Chapter 7\" in descr):\n",
    "                item = []\n",
    "                item.append(descr)\n",
    "                item.append(case.get_id())\n",
    "                ch7_vp.append(item)\n",
    "                break\n",
    "            elif(\"Chapter 13\" in descr):\n",
    "                item = []\n",
    "                item.append(descr)\n",
    "                item.append(case.get_id())\n",
    "                ch13_vp.append(item)\n",
    "                break\n",
    "print(\"Chapter 7 Voluntary Petitions: \\n\")\n",
    "for case in ch7_vp:\n",
    "    print(\"Case ID: \", case[1])\n",
    "    print(\"Case description: \", case[0], \"\\n\")\n",
    "print(\"\\nChapter 11 Voluntary Petitions: \\n\")\n",
    "for case in ch11_vp:\n",
    "    print(\"Case ID: \", case[1])\n",
    "    print(\"Case description: \", case[0], \"\\n\")\n",
    "print(\"\\nChapter 13 Voluntary Petitions: \\n\")\n",
    "for case in ch13_vp:\n",
    "    print(\"Case ID: \", case[1])\n",
    "    print(\"Case description: \", case[0], \"\\n\")"
   ]
  },
  {
   "cell_type": "code",
   "execution_count": 100,
   "metadata": {},
   "outputs": [
    {
     "data": {
      "text/plain": [
       "11"
      ]
     },
     "execution_count": 100,
     "metadata": {},
     "output_type": "execute_result"
    }
   ],
   "source": []
  },
  {
   "cell_type": "code",
   "execution_count": null,
   "metadata": {},
   "outputs": [],
   "source": []
  }
 ],
 "metadata": {
  "kernelspec": {
   "display_name": "Python 3",
   "language": "python",
   "name": "python3"
  },
  "language_info": {
   "codemirror_mode": {
    "name": "ipython",
    "version": 3
   },
   "file_extension": ".py",
   "mimetype": "text/x-python",
   "name": "python",
   "nbconvert_exporter": "python",
   "pygments_lexer": "ipython3",
   "version": "3.7.4"
  }
 },
 "nbformat": 4,
 "nbformat_minor": 2
}
