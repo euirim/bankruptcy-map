{
 "cells": [
  {
   "cell_type": "code",
   "execution_count": 68,
   "metadata": {},
   "outputs": [],
   "source": [
    "# Read in from samples\n",
    "import sys\n",
    "import os\n",
    "sys.path.append(\"..\")\n",
    "from utils.case import Case, DocketEntry, Document, Party\n",
    "\n",
    "DATA_LOCATION = \"../data/samples\"\n",
    "\n",
    "case_files = []\n",
    "for file in os.listdir(DATA_LOCATION):\n",
    "    if file.endswith(\".json\"):\n",
    "        case_files.append(os.path.join(DATA_LOCATION, file))\n",
    "        "
   ]
  },
  {
   "cell_type": "code",
   "execution_count": 69,
   "metadata": {},
   "outputs": [],
   "source": [
    "# Spacy/Blackstone imports\n",
    "import spacy\n",
    "from spacy import displacy\n",
    "from blackstone.displacy_palette import ner_displacy_options\n",
    "nlp = spacy.load('en_core_web_sm')\n",
    "nlp = spacy.load(\"en_blackstone_proto\")"
   ]
  },
  {
   "cell_type": "code",
   "execution_count": 3,
   "metadata": {},
   "outputs": [
    {
     "name": "stdout",
     "output_type": "stream",
     "text": [
      "john\n",
      "Case ID:  4303283\n",
      "Case description:  Order to Appear for Examination (Peter Johnstone) . (Brock, Anna) (Entered: 11/18/2015) \n",
      "\n",
      "Case ID:  4303283\n",
      "Case description:  Application for Approval of Officer Compensation (Peter Johnstone as President) filed by Trawick H Stubbs Jr. on behalf of Gunboat International, Ltd. Recommendation due 12/2/2015. (Stubbs, Trawick) (Entered: 11/18/2015) \n",
      "\n",
      "Case ID:  4303283\n",
      "Case description:  Notice of Appearance, Request for Notices filed by J. Trevor Johnston on behalf of Timothy Watts. (Johnston, J.) (Entered: 12/02/2015) \n",
      "\n",
      "Case ID:  4303283\n",
      "Case description:  Objection Opposing Motion filed by Christopher Scott Kirk on behalf of Bankruptcy Administrator (related document no.12 Application for Approval of Officer Compensation (Peter Johnstone as President) filed by Trawick H Stubbs Jr. on behalf of Gunboat International, Ltd. Recommendation due 12/2/2015.). (Kirk, Christopher) (Entered: 12/02/2015) \n",
      "\n",
      "Case ID:  4303283\n",
      "Case description:  Notice of Appearance filed by John G. Rhyne on behalf of OBX Bank, a division of Monarch Bank. (Rhyne, John) (Entered: 12/07/2015) \n",
      "\n",
      "Case ID:  15257641\n",
      "Case description:  Order Case Reassigned. Calendar W added to case. Involvement of Judge John H. Squires terminated . Signed on 12/22/2011 (ilnbadi) (Entered: 12/23/2011) \n",
      "\n",
      "Case ID:  4553420\n",
      "Case description:  Auto Assignment of Chapter 13 Meeting of Creditors John C. McAleer, III with 341(a) meeting to be held on 04/24/2014 at 08:30AM at 201 St. Louis St., Mobile, AL 36602. Proof of Claim due by07/23/2014. Government Proof of Claim due by 09/10/2014. JudgeMAHONEY added to case (Entered: 03/14/2014) \n",
      "\n",
      "Case ID:  4553420\n",
      "Case description:  Chapter 13 341 Meeting Held and Confirmation Hearing - Case is Conditionally Confirmed to the Bar Date (McAleer, John) (Entered: 04/24/2014) \n",
      "\n",
      "Case ID:  4553420\n",
      "Case description:  Notice of Withdrawal of Document Filed by John C. McAleer III(related document(s)35 Motion to Modify Plan) (McAleer, John) (Entered: 11/18/2014) \n",
      "\n",
      "Case ID:  15552441\n",
      "Case description:  Chapter 7 Trustee's Report of No Distribution: I, John E Gierum, having been appointed trustee of the estate of the above-named debtor(s), report that I have neither received any property nor paid any money on account of this estate; that I have made a diligent inquiry into the financial affairs of the debtor(s) and the location of the property belonging to the estate; and that there is no property available for distribution from the estate over and above that exempted by law. Pursuant to Fed R Bank P 5009, I hereby certify that the estate of the above-named debtor(s) has been fully administered. I request that I be discharged from any further duties as trustee. Key information about this case as reported in schedules filed by the debtor(s) or otherwise found in the case record: This case was pending for 1 months. Assets Abandoned (without deducting any secured claims): $ 0.00, Assets Exempt: $ 2569.52, Claims Scheduled: $ 6310.02, Claims Asserted: Not Applicable, Claims scheduled to be discharged without payment (without deducting the value of collateral or debts excepted from discharge): $ 6310.02. (Gierum, John) (Entered: 03/27/2017) \n",
      "\n",
      "Case ID:  14748580\n",
      "Case description:  Chapter 7 Voluntary Petition for Individuals . Fee Amount $335 Filed by Ruben Ray Rhoades Sr., Elizabeth Dara Rhoades (Bates, John aty) (Entered: 03/19/2019) \n",
      "\n",
      "Case ID:  14748580\n",
      "Case description:  Declaration Re: Electronic Filing Filed by Elizabeth Dara Rhoades, Ruben Ray Rhoades Sr.. (Bates, John aty) (Entered: 03/19/2019) \n",
      "\n",
      "Case ID:  14748580\n",
      "Case description:  Certificate of Credit Counseling Filed by Elizabeth Dara Rhoades, Ruben Ray Rhoades Sr.. (Bates, John aty) (Entered: 03/19/2019) \n",
      "\n",
      "Case ID:  14748580\n",
      "Case description:  Employee Income Records Filed by Elizabeth Dara Rhoades, Ruben Ray Rhoades Sr.. (Bates, John aty) (Entered: 03/19/2019) \n",
      "\n",
      "Case ID:  15380660\n",
      "Case description:  Chapter 7 Trustee's Report of No Distribution: I, John E Gierum, having been appointed trustee of the estate of the above-named debtor(s), report that I have neither received any property nor paid any money on account of this estate; that I have made a diligent inquiry into the financial affairs of the debtor(s) and the location of the property belonging to the estate; and that there is no property available for distribution from the estate over and above that exempted by law. Pursuant to Fed R Bank P 5009, I hereby certify that the estate of the above-named debtor(s) has been fully administered. I request that I be discharged from any further duties as trustee. Key information about this case as reported in schedules filed by the debtor(s) or otherwise found in the case record: This case was pending for 2 months. Assets Abandoned (without deducting any secured claims): $ 268580.10, Assets Exempt: $ 27399.90, Claims Scheduled: $ 300680.99, Claims Asserted: Not Applicable, Claims scheduled to be discharged without payment (without deducting the value of collateral or debts excepted from discharge): $ 300680.99. (Gierum, John) (Entered: 03/22/2013) \n",
      "\n"
     ]
    }
   ],
   "source": [
    "#Search through descriptions for direct match with keyword\n",
    "keyword = input()\n",
    "output = []\n",
    "for fn in case_files:\n",
    "    case = Case(fn)\n",
    "    for entry in case.get_entries():\n",
    "        descr = entry.get_description()\n",
    "        if(keyword.lower() in descr.lower()):\n",
    "            item = []\n",
    "            item.append(descr)\n",
    "            item.append(case.get_id())\n",
    "            output.append(item)\n",
    "for case in output:\n",
    "    print(\"Case ID: \", case[1])\n",
    "    print(\"Case description: \", case[0], \"\\n\")"
   ]
  },
  {
   "cell_type": "code",
   "execution_count": 20,
   "metadata": {},
   "outputs": [
    {
     "name": "stdout",
     "output_type": "stream",
     "text": [
      "Memorandum Opinion. SDR (RE: related document(s)113 Order on Motion For Sanctions, Order on Motion for Sanctions for Debtor's Attorney). (bgs)\n",
      "Case ID:  4985732\n",
      "Memorandum Opinion. CASENAME\n",
      "Chapter 13 Voluntary Petition Fee Amount $281, Filed by Jamie F Reisman on behalf of Rosa Altamirano, Edwin G. Ramirez Government Proof of Claim due by 12/24/2013.Chapter 13 Plan due by 07/11/2013. (Reisman, Jamie) (Entered: 06/27/2013)\n"
     ]
    },
    {
     "ename": "TypeError",
     "evalue": "unhashable type: 'dict'",
     "output_type": "error",
     "traceback": [
      "\u001b[0;31m---------------------------------------------------------------------------\u001b[0m",
      "\u001b[0;31mTypeError\u001b[0m                                 Traceback (most recent call last)",
      "\u001b[0;32m<ipython-input-20-f1845b9d2319>\u001b[0m in \u001b[0;36m<module>\u001b[0;34m\u001b[0m\n\u001b[1;32m      9\u001b[0m         \u001b[0;32mif\u001b[0m \u001b[0mdescr\u001b[0m\u001b[0;34m:\u001b[0m\u001b[0;34m\u001b[0m\u001b[0;34m\u001b[0m\u001b[0m\n\u001b[1;32m     10\u001b[0m             \u001b[0mprint\u001b[0m\u001b[0;34m(\u001b[0m\u001b[0mdescr\u001b[0m\u001b[0;34m)\u001b[0m\u001b[0;34m\u001b[0m\u001b[0;34m\u001b[0m\u001b[0m\n\u001b[0;32m---> 11\u001b[0;31m             \u001b[0mdoc\u001b[0m \u001b[0;34m=\u001b[0m \u001b[0mnlp\u001b[0m\u001b[0;34m(\u001b[0m\u001b[0mdescr\u001b[0m\u001b[0;34m)\u001b[0m\u001b[0;34m\u001b[0m\u001b[0;34m\u001b[0m\u001b[0m\n\u001b[0m\u001b[1;32m     12\u001b[0m \u001b[0;34m\u001b[0m\u001b[0m\n\u001b[1;32m     13\u001b[0m             \u001b[0;31m# Iterate through the entities identified by the model\u001b[0m\u001b[0;34m\u001b[0m\u001b[0;34m\u001b[0m\u001b[0;34m\u001b[0m\u001b[0m\n",
      "\u001b[0;32m/usr/local/lib/python3.7/site-packages/spacy/language.py\u001b[0m in \u001b[0;36m__call__\u001b[0;34m(self, text, disable, component_cfg)\u001b[0m\n\u001b[1;32m    436\u001b[0m             \u001b[0;32mif\u001b[0m \u001b[0;32mnot\u001b[0m \u001b[0mhasattr\u001b[0m\u001b[0;34m(\u001b[0m\u001b[0mproc\u001b[0m\u001b[0;34m,\u001b[0m \u001b[0;34m\"__call__\"\u001b[0m\u001b[0;34m)\u001b[0m\u001b[0;34m:\u001b[0m\u001b[0;34m\u001b[0m\u001b[0;34m\u001b[0m\u001b[0m\n\u001b[1;32m    437\u001b[0m                 \u001b[0;32mraise\u001b[0m \u001b[0mValueError\u001b[0m\u001b[0;34m(\u001b[0m\u001b[0mErrors\u001b[0m\u001b[0;34m.\u001b[0m\u001b[0mE003\u001b[0m\u001b[0;34m.\u001b[0m\u001b[0mformat\u001b[0m\u001b[0;34m(\u001b[0m\u001b[0mcomponent\u001b[0m\u001b[0;34m=\u001b[0m\u001b[0mtype\u001b[0m\u001b[0;34m(\u001b[0m\u001b[0mproc\u001b[0m\u001b[0;34m)\u001b[0m\u001b[0;34m,\u001b[0m \u001b[0mname\u001b[0m\u001b[0;34m=\u001b[0m\u001b[0mname\u001b[0m\u001b[0;34m)\u001b[0m\u001b[0;34m)\u001b[0m\u001b[0;34m\u001b[0m\u001b[0;34m\u001b[0m\u001b[0m\n\u001b[0;32m--> 438\u001b[0;31m             \u001b[0mdoc\u001b[0m \u001b[0;34m=\u001b[0m \u001b[0mproc\u001b[0m\u001b[0;34m(\u001b[0m\u001b[0mdoc\u001b[0m\u001b[0;34m,\u001b[0m \u001b[0;34m**\u001b[0m\u001b[0mcomponent_cfg\u001b[0m\u001b[0;34m.\u001b[0m\u001b[0mget\u001b[0m\u001b[0;34m(\u001b[0m\u001b[0mname\u001b[0m\u001b[0;34m,\u001b[0m \u001b[0;34m{\u001b[0m\u001b[0;34m}\u001b[0m\u001b[0;34m)\u001b[0m\u001b[0;34m)\u001b[0m\u001b[0;34m\u001b[0m\u001b[0;34m\u001b[0m\u001b[0m\n\u001b[0m\u001b[1;32m    439\u001b[0m             \u001b[0;32mif\u001b[0m \u001b[0mdoc\u001b[0m \u001b[0;32mis\u001b[0m \u001b[0;32mNone\u001b[0m\u001b[0;34m:\u001b[0m\u001b[0;34m\u001b[0m\u001b[0;34m\u001b[0m\u001b[0m\n\u001b[1;32m    440\u001b[0m                 \u001b[0;32mraise\u001b[0m \u001b[0mValueError\u001b[0m\u001b[0;34m(\u001b[0m\u001b[0mErrors\u001b[0m\u001b[0;34m.\u001b[0m\u001b[0mE005\u001b[0m\u001b[0;34m.\u001b[0m\u001b[0mformat\u001b[0m\u001b[0;34m(\u001b[0m\u001b[0mname\u001b[0m\u001b[0;34m=\u001b[0m\u001b[0mname\u001b[0m\u001b[0;34m)\u001b[0m\u001b[0;34m)\u001b[0m\u001b[0;34m\u001b[0m\u001b[0;34m\u001b[0m\u001b[0m\n",
      "\u001b[0;32mpipes.pyx\u001b[0m in \u001b[0;36mspacy.pipeline.pipes.Tagger.__call__\u001b[0;34m()\u001b[0m\n",
      "\u001b[0;32mpipes.pyx\u001b[0m in \u001b[0;36mspacy.pipeline.pipes.Tagger.set_annotations\u001b[0;34m()\u001b[0m\n",
      "\u001b[0;32mmorphology.pyx\u001b[0m in \u001b[0;36mspacy.morphology.Morphology.assign_tag_id\u001b[0;34m()\u001b[0m\n",
      "\u001b[0;32mmorphology.pyx\u001b[0m in \u001b[0;36mspacy.morphology.Morphology.lemmatize\u001b[0;34m()\u001b[0m\n",
      "\u001b[0;32mstrings.pyx\u001b[0m in \u001b[0;36mspacy.strings.StringStore.as_string\u001b[0;34m()\u001b[0m\n",
      "\u001b[0;32mstrings.pyx\u001b[0m in \u001b[0;36mspacy.strings.StringStore.__getitem__\u001b[0;34m()\u001b[0m\n",
      "\u001b[0;31mTypeError\u001b[0m: unhashable type: 'dict'"
     ]
    }
   ],
   "source": [
    "#Print out entities from case descriptions\n",
    "for fn in case_files:\n",
    "    case = Case(fn)\n",
    "    for entry in case.get_entries():\n",
    "        descr = entry.get_description()\n",
    "        text = \"\"\" 31 As we shall explain in more detail in examining the submission of the Secretary of State (see paras 77 and following), it is the Secretary of State’s case that nothing has been done by Parliament in the European Communities Act 1972 or any other statute to remove the prerogative power of the Crown, in the conduct of the international relations of the UK, to take steps to remove the UK from the EU by giving notice under article 50EU for the UK to withdraw from the EU Treaty and other relevant EU Treaties. The Secretary of State relies in particular on Attorney General v De Keyser’s Royal Hotel Ltd [1920] AC 508 and R v Secretary of State for Foreign and Commonwealth Affairs, Ex p Rees-Mogg [1994] QB 552; he contends that the Crown’s prerogative power to cause the UK to withdraw from the EU by giving notice under article 50EU could only have been removed by primary legislation using express words to that effect, alternatively by legislation which has that effect by necessary implication. The Secretary of State contends that neither the ECA 1972 nor any of the other Acts of Parliament referred to have abrogated this aspect of the Crown’s prerogative, either by express words or by necessary implication.\n",
    "\"\"\"\n",
    "        # Apply the model to the description\n",
    "        if descr:\n",
    "            print(descr)\n",
    "            doc = nlp(descr)\n",
    "\n",
    "            # Iterate through the entities identified by the model\n",
    "            print(\"Case ID: \", case.get_id())\n",
    "            for ent in doc.ents:\n",
    "                print(ent.text, ent.label_)"
   ]
  },
  {
   "cell_type": "code",
   "execution_count": 61,
   "metadata": {},
   "outputs": [
    {
     "name": "stdout",
     "output_type": "stream",
     "text": [
      "Extend Automatic Stay\n",
      "None\n"
     ]
    },
    {
     "ename": "TypeError",
     "evalue": "object of type 'NoneType' has no len()",
     "output_type": "error",
     "traceback": [
      "\u001b[0;31m---------------------------------------------------------------------------\u001b[0m",
      "\u001b[0;31mTypeError\u001b[0m                                 Traceback (most recent call last)",
      "\u001b[0;32m<ipython-input-61-87f332131259>\u001b[0m in \u001b[0;36m<module>\u001b[0;34m\u001b[0m\n\u001b[1;32m     21\u001b[0m             \u001b[0mprint\u001b[0m\u001b[0;34m(\u001b[0m\u001b[0mdoc\u001b[0m\u001b[0;34m.\u001b[0m\u001b[0mtext\u001b[0m\u001b[0;34m)\u001b[0m\u001b[0;34m\u001b[0m\u001b[0;34m\u001b[0m\u001b[0m\n\u001b[1;32m     22\u001b[0m \u001b[0;31m#             if(isinstance(doc.text, str)):\u001b[0m\u001b[0;34m\u001b[0m\u001b[0;34m\u001b[0m\u001b[0;34m\u001b[0m\u001b[0m\n\u001b[0;32m---> 23\u001b[0;31m             \u001b[0mdocument\u001b[0m \u001b[0;34m=\u001b[0m \u001b[0mnlp\u001b[0m\u001b[0;34m(\u001b[0m\u001b[0mdoc\u001b[0m\u001b[0;34m.\u001b[0m\u001b[0mtext\u001b[0m\u001b[0;34m)\u001b[0m\u001b[0;34m\u001b[0m\u001b[0;34m\u001b[0m\u001b[0m\n\u001b[0m\u001b[1;32m     24\u001b[0m             \u001b[0msentences\u001b[0m \u001b[0;34m=\u001b[0m \u001b[0;34m[\u001b[0m\u001b[0msent\u001b[0m\u001b[0;34m.\u001b[0m\u001b[0mtext\u001b[0m \u001b[0;32mfor\u001b[0m \u001b[0msent\u001b[0m \u001b[0;32min\u001b[0m \u001b[0mdocument\u001b[0m\u001b[0;34m.\u001b[0m\u001b[0msents\u001b[0m\u001b[0;34m]\u001b[0m\u001b[0;34m\u001b[0m\u001b[0;34m\u001b[0m\u001b[0m\n\u001b[1;32m     25\u001b[0m \u001b[0;34m\u001b[0m\u001b[0m\n",
      "\u001b[0;32m/usr/local/lib/python3.7/site-packages/spacy/language.py\u001b[0m in \u001b[0;36m__call__\u001b[0;34m(self, text, disable, component_cfg)\u001b[0m\n\u001b[1;32m    424\u001b[0m         \u001b[0mDOCS\u001b[0m\u001b[0;34m:\u001b[0m \u001b[0mhttps\u001b[0m\u001b[0;34m:\u001b[0m\u001b[0;34m//\u001b[0m\u001b[0mspacy\u001b[0m\u001b[0;34m.\u001b[0m\u001b[0mio\u001b[0m\u001b[0;34m/\u001b[0m\u001b[0mapi\u001b[0m\u001b[0;34m/\u001b[0m\u001b[0mlanguage\u001b[0m\u001b[0;31m#call\u001b[0m\u001b[0;34m\u001b[0m\u001b[0;34m\u001b[0m\u001b[0m\n\u001b[1;32m    425\u001b[0m         \"\"\"\n\u001b[0;32m--> 426\u001b[0;31m         \u001b[0;32mif\u001b[0m \u001b[0mlen\u001b[0m\u001b[0;34m(\u001b[0m\u001b[0mtext\u001b[0m\u001b[0;34m)\u001b[0m \u001b[0;34m>\u001b[0m \u001b[0mself\u001b[0m\u001b[0;34m.\u001b[0m\u001b[0mmax_length\u001b[0m\u001b[0;34m:\u001b[0m\u001b[0;34m\u001b[0m\u001b[0;34m\u001b[0m\u001b[0m\n\u001b[0m\u001b[1;32m    427\u001b[0m             raise ValueError(\n\u001b[1;32m    428\u001b[0m                 \u001b[0mErrors\u001b[0m\u001b[0;34m.\u001b[0m\u001b[0mE088\u001b[0m\u001b[0;34m.\u001b[0m\u001b[0mformat\u001b[0m\u001b[0;34m(\u001b[0m\u001b[0mlength\u001b[0m\u001b[0;34m=\u001b[0m\u001b[0mlen\u001b[0m\u001b[0;34m(\u001b[0m\u001b[0mtext\u001b[0m\u001b[0;34m)\u001b[0m\u001b[0;34m,\u001b[0m \u001b[0mmax_length\u001b[0m\u001b[0;34m=\u001b[0m\u001b[0mself\u001b[0m\u001b[0;34m.\u001b[0m\u001b[0mmax_length\u001b[0m\u001b[0;34m)\u001b[0m\u001b[0;34m\u001b[0m\u001b[0;34m\u001b[0m\u001b[0m\n",
      "\u001b[0;31mTypeError\u001b[0m: object of type 'NoneType' has no len()"
     ]
    }
   ],
   "source": [
    "def get_top_cat(doc):\n",
    "    \"\"\"\n",
    "    Function to identify the highest scoring category\n",
    "    prediction generated by the text categoriser. \n",
    "    \"\"\"\n",
    "    cats = doc.cats\n",
    "    max_score = max(cats.values()) \n",
    "    max_cats = [k for k, v in cats.items() if v == max_score]\n",
    "    max_cat = max_cats[0]\n",
    "    return (max_cat, max_score)\n",
    "\n",
    "for fn in case_files:\n",
    "    case = Case(fn)\n",
    "#     print(entry.description)\n",
    "#     print(case.get_jurisdiction())\n",
    "    for entry in case.get_entries():\n",
    "        for doc in entry.documents:\n",
    "#             print(entry.description)\n",
    "            doc.download()\n",
    "            print(doc.get_description())\n",
    "            print(doc.text)\n",
    "#             if(isinstance(doc.text, str)):\n",
    "            document = nlp(doc.text)\n",
    "            sentences = [sent.text for sent in document.sents]\n",
    "\n",
    "            for sentence in sentences:\n",
    "                doc2 = nlp(sentence)\n",
    "                top_category = get_top_cat(doc2)\n",
    "                print (f\"\\\"{sentence}\\\" {top_category}\\n\")\n",
    "#             if(keyword in doc.text):\n",
    "#                 print(\"Case ID: \")\n",
    "#                 print(case.get_id())\n",
    "#                 print(\"Docket Description: \")\n",
    "#                 print(entry.get_description())\n"
   ]
  },
  {
   "cell_type": "code",
   "execution_count": 66,
   "metadata": {},
   "outputs": [
    {
     "ename": "SyntaxError",
     "evalue": "unexpected EOF while parsing (<ipython-input-66-c28f1086c180>, line 24)",
     "output_type": "error",
     "traceback": [
      "\u001b[0;36m  File \u001b[0;32m\"<ipython-input-66-c28f1086c180>\"\u001b[0;36m, line \u001b[0;32m24\u001b[0m\n\u001b[0;31m    print (f\"\\\"{sentence}\\\" {top_category}\\n\"\u001b[0m\n\u001b[0m                                             ^\u001b[0m\n\u001b[0;31mSyntaxError\u001b[0m\u001b[0;31m:\u001b[0m unexpected EOF while parsing\n"
     ]
    }
   ],
   "source": [
    "def get_top_cat(doc):\n",
    "    \"\"\"\n",
    "    Function to identify the highest scoring category\n",
    "    prediction generated by the text categoriser. \n",
    "    \"\"\"\n",
    "    cats = doc.cats\n",
    "    max_score = max(cats.values()) \n",
    "    max_cats = [k for k, v in cats.items() if v == max_score]\n",
    "    max_cat = max_cats[0]\n",
    "    return (max_cat, max_score)\n",
    "\n",
    "for fn in case_files:\n",
    "    case = Case(fn)\n",
    "    print(case.get_description())\n",
    "    for entry in case.get_entries():\n",
    "        for doc in entry.documents:\n",
    "            doc.download()\n",
    "            document = nlp(doc.get_description())\n",
    "            sentences = [sent.text for sent in document.sents]\n",
    "\n",
    "            for sentence in sentences:\n",
    "                doc2 = nlp(sentence)\n",
    "                top_category = get_top_cat(doc2)\n",
    "                print (f\"\\\"{sentence}\\\" {top_category}\\n\"\n"
   ]
  },
  {
   "cell_type": "code",
   "execution_count": 70,
   "metadata": {},
   "outputs": [],
   "source": [
    "for fn in case_files:\n",
    "    case = Case(fn)\n",
    "    for entry in case.get_entries():\n",
    "        for doc in entry.documents:\n",
    "            doc.download()\n",
    "            if(isinstance(doc.text, str)):\n",
    "                if(keyword in doc.text):\n",
    "                    print(\"Case ID: \")\n",
    "                    print(case.get_id())\n",
    "                    print(\"Docket Description: \")\n",
    "                    print(entry.get_description())"
   ]
  },
  {
   "cell_type": "code",
   "execution_count": null,
   "metadata": {},
   "outputs": [],
   "source": []
  }
 ],
 "metadata": {
  "kernelspec": {
   "display_name": "Python 3",
   "language": "python",
   "name": "python3"
  },
  "language_info": {
   "codemirror_mode": {
    "name": "ipython",
    "version": 3
   },
   "file_extension": ".py",
   "mimetype": "text/x-python",
   "name": "python",
   "nbconvert_exporter": "python",
   "pygments_lexer": "ipython3",
   "version": "3.7.4"
  }
 },
 "nbformat": 4,
 "nbformat_minor": 2
}
