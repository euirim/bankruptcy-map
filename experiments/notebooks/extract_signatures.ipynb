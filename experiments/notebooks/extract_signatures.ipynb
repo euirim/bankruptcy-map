{
 "cells": [
  {
   "cell_type": "code",
   "execution_count": 16,
   "metadata": {},
   "outputs": [],
   "source": [
    "import sys\n",
    "import os\n",
    "sys.path.append(\"..\")\n",
    "from utils.case import Case, DocketEntry, Document, Party\n",
    "\n",
    "DATA_LOCATION = \"../data/samples\"\n",
    "\n",
    "case_files = []\n",
    "for file in os.listdir(DATA_LOCATION):\n",
    "    if file.endswith(\".json\"):\n",
    "        case_files.append(os.path.join(DATA_LOCATION, file))"
   ]
  },
  {
   "cell_type": "code",
   "execution_count": 19,
   "metadata": {},
   "outputs": [],
   "source": [
    "# Spacy/Blackstone imports\n",
    "import spacy\n",
    "from spacy import displacy\n",
    "from blackstone.displacy_palette import ner_displacy_options\n",
    "nlp = spacy.load('en_core_web_sm')\n",
    "# nlp = spacy.load(\"en_blackstone_proto\")\n"
   ]
  },
  {
   "cell_type": "code",
   "execution_count": null,
   "metadata": {
    "scrolled": false
   },
   "outputs": [
    {
     "name": "stdout",
     "output_type": "stream",
     "text": [
      "HAS TEXT!\n",
      "HAS TEXT!\n",
      "HAS TEXT!\n",
      "Case ID:  7256947\n",
      "Notice of Final Cure Mortgage Payment re: Rule 3002.1 Filed by Trustee Tom Vaughn. (Vaughn, Tom) (Entered: 07/13/2018)\n",
      "/s/ TOM VAUGHN \n",
      " Case\n",
      "HAS TEXT!\n",
      "HAS TEXT!\n",
      "HAS TEXT!\n",
      "HAS TEXT!\n",
      "Case ID:  15542835\n",
      "Chapter 7 Voluntary Petition for Individual Fee Amount $335, Filed by Jason M Shimotake on behalf of Shaunte Domanique Cameron (Shimotake, Jason) (Entered: 10/20/2016)\n",
      "/s/ Shaunte Domanique CameronDated :\n",
      "HAS TEXT!\n",
      "HAS TEXT!\n",
      "HAS TEXT!\n",
      "HAS TEXT!\n",
      "HAS TEXT!\n",
      "HAS TEXT!\n",
      "HAS TEXT!\n",
      "HAS TEXT!\n",
      "HAS TEXT!\n",
      "HAS TEXT!\n",
      "HAS TEXT!\n",
      "Case ID:  15425657\n",
      "Chapter 7 Voluntary Petition Fee Amount $306, Filed by Jonathan D Parker on behalf of Rena Sanders (Parker, Jonathan) (Entered: 01/13/2014)\n",
      "/s/ Rena   Sanders Dated\n",
      "Case ID:  15425657\n",
      "Chapter 7 Voluntary Petition Fee Amount $306, Filed by Jonathan D Parker on behalf of Rena Sanders (Parker, Jonathan) (Entered: 01/13/2014)\n",
      "/s/ Rena   Sandersif joint\n",
      "Case ID:  15425657\n",
      "Chapter 7 Voluntary Petition Fee Amount $306, Filed by Jonathan D Parker on behalf of Rena Sanders (Parker, Jonathan) (Entered: 01/13/2014)\n",
      "/s/ Rena   Sanders I\n",
      "Case ID:  15425657\n",
      "Chapter 7 Voluntary Petition Fee Amount $306, Filed by Jonathan D Parker on behalf of Rena Sanders (Parker, Jonathan) (Entered: 01/13/2014)\n",
      "/s/ Rena   SandersRecord #\n",
      "Case ID:  15425657\n",
      "Chapter 7 Voluntary Petition Fee Amount $306, Filed by Jonathan D Parker on behalf of Rena Sanders (Parker, Jonathan) (Entered: 01/13/2014)\n",
      "/s/ Rena   SandersDated :\n",
      "HAS TEXT!\n",
      "HAS TEXT!\n",
      "HAS TEXT!\n",
      "HAS TEXT!\n",
      "HAS TEXT!\n",
      "HAS TEXT!\n",
      "HAS TEXT!\n",
      "HAS TEXT!\n",
      "HAS TEXT!\n",
      "Case ID:  6746970\n",
      "Chapter 13 Voluntary Petition Fee Amount $310, Filed by Laura R Caputo on behalf of Tabitha Sue Berryhill Government Proof of Claim due by 04/20/2015.Chapter 13 Plan due by 11/3/2014. (Caputo, Laura) (Entered: 10/20/2014)\n",
      "/s/ Tabitha Sue Berryhill \n",
      "\n",
      "Case ID:  6746970\n",
      "Chapter 13 Voluntary Petition Fee Amount $310, Filed by Laura R Caputo on behalf of Tabitha Sue Berryhill Government Proof of Claim due by 04/20/2015.Chapter 13 Plan due by 11/3/2014. (Caputo, Laura) (Entered: 10/20/2014)\n",
      "/s/ Tabitha Sue Berryhill \n",
      "\n",
      "Case ID:  6746970\n",
      "Chapter 13 Voluntary Petition Fee Amount $310, Filed by Laura R Caputo on behalf of Tabitha Sue Berryhill Government Proof of Claim due by 04/20/2015.Chapter 13 Plan due by 11/3/2014. (Caputo, Laura) (Entered: 10/20/2014)\n",
      "/s/ Tabitha Sue Berryhill \n",
      " \n",
      "Case ID:  6746970\n",
      "Chapter 13 Voluntary Petition Fee Amount $310, Filed by Laura R Caputo on behalf of Tabitha Sue Berryhill Government Proof of Claim due by 04/20/2015.Chapter 13 Plan due by 11/3/2014. (Caputo, Laura) (Entered: 10/20/2014)\n",
      "/s/ Tabitha Sue Berryhill \n",
      "\n",
      "HAS TEXT!\n",
      "HAS TEXT!\n",
      "HAS TEXT!\n",
      "HAS TEXT!\n",
      "HAS TEXT!\n",
      "HAS TEXT!\n",
      "HAS TEXT!\n",
      "HAS TEXT!\n",
      "HAS TEXT!\n",
      "HAS TEXT!\n",
      "HAS TEXT!\n"
     ]
    }
   ],
   "source": [
    "# keyword = \"/s/\"\n",
    "sig_counts = 0\n",
    "doc_text_counts = 0\n",
    "for fn in case_files:\n",
    "    case = Case(fn)\n",
    "    for entry in case.get_entries():\n",
    "        for doc in entry.documents:\n",
    "            doc.download()\n",
    "            if(isinstance(doc.text, str)):\n",
    "                print(\"HAS TEXT!\")\n",
    "                doc_text_counts += 1\n",
    "                # Read in entire document\n",
    "                doc = nlp(doc.text)\n",
    "                for i, token in enumerate(doc):\n",
    "                    if token.text.lower() == \"/s/\":\n",
    "                        sig_counts += 1\n",
    "                        print(\"Case ID: \", case.get_id())\n",
    "                        print(entry.get_description())\n",
    "                        print(doc[i], doc[i+1], doc[i+2], doc[i+3], doc[i+4])\n",
    "#                 if(keyword in doc.text):\n",
    "#                     print(\"Case ID: \")\n",
    "#                     print(case.get_id())\n",
    "#                     print(\"Doc TEXT \")\n",
    "#                     print(doc.text)\n",
    "#             else:\n",
    "#                 print(\"no DESC!\")\n",
    "print(\"Signatures\", sig_counts)\n",
    "print(\"Docs w/ Text\", doc_text_counts)"
   ]
  },
  {
   "cell_type": "code",
   "execution_count": null,
   "metadata": {},
   "outputs": [],
   "source": [
    "print(case_files.size())"
   ]
  },
  {
   "cell_type": "code",
   "execution_count": null,
   "metadata": {},
   "outputs": [],
   "source": []
  }
 ],
 "metadata": {
  "kernelspec": {
   "display_name": "Python 3",
   "language": "python",
   "name": "python3"
  },
  "language_info": {
   "codemirror_mode": {
    "name": "ipython",
    "version": 3
   },
   "file_extension": ".py",
   "mimetype": "text/x-python",
   "name": "python",
   "nbconvert_exporter": "python",
   "pygments_lexer": "ipython3",
   "version": "3.7.4"
  }
 },
 "nbformat": 4,
 "nbformat_minor": 2
}
