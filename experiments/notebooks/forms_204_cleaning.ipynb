{
 "cells": [
  {
   "cell_type": "code",
   "execution_count": 526,
   "metadata": {},
   "outputs": [
    {
     "ename": "KeyboardInterrupt",
     "evalue": "",
     "output_type": "error",
     "traceback": [
      "\u001b[0;31m---------------------------------------------------------------------------\u001b[0m",
      "\u001b[0;31mKeyboardInterrupt\u001b[0m                         Traceback (most recent call last)",
      "\u001b[0;32m<ipython-input-526-f7d68b6e6da7>\u001b[0m in \u001b[0;36m<module>\u001b[0;34m\u001b[0m\n\u001b[1;32m     18\u001b[0m         \u001b[0;32mwith\u001b[0m \u001b[0mopen\u001b[0m\u001b[0;34m(\u001b[0m\u001b[0mfilename\u001b[0m\u001b[0;34m,\u001b[0m\u001b[0;34m'rt'\u001b[0m\u001b[0;34m)\u001b[0m\u001b[0;32mas\u001b[0m \u001b[0mf\u001b[0m\u001b[0;34m:\u001b[0m\u001b[0;34m\u001b[0m\u001b[0;34m\u001b[0m\u001b[0m\n\u001b[1;32m     19\u001b[0m             \u001b[0mdata\u001b[0m \u001b[0;34m=\u001b[0m \u001b[0mcsv\u001b[0m\u001b[0;34m.\u001b[0m\u001b[0mreader\u001b[0m\u001b[0;34m(\u001b[0m\u001b[0mf\u001b[0m\u001b[0;34m)\u001b[0m\u001b[0;34m\u001b[0m\u001b[0;34m\u001b[0m\u001b[0m\n\u001b[0;32m---> 20\u001b[0;31m             \u001b[0;32mfor\u001b[0m \u001b[0mrow\u001b[0m \u001b[0;32min\u001b[0m \u001b[0mdata\u001b[0m\u001b[0;34m:\u001b[0m\u001b[0;34m\u001b[0m\u001b[0;34m\u001b[0m\u001b[0m\n\u001b[0m\u001b[1;32m     21\u001b[0m                 \u001b[0;31m#print(row)\u001b[0m\u001b[0;34m\u001b[0m\u001b[0;34m\u001b[0m\u001b[0;34m\u001b[0m\u001b[0m\n\u001b[1;32m     22\u001b[0m                 \u001b[0mempty\u001b[0m \u001b[0;34m=\u001b[0m \u001b[0;32mFalse\u001b[0m\u001b[0;34m\u001b[0m\u001b[0;34m\u001b[0m\u001b[0m\n",
      "\u001b[0;32m/usr/local/lib/python3.7/codecs.py\u001b[0m in \u001b[0;36mdecode\u001b[0;34m(self, input, final)\u001b[0m\n\u001b[1;32m    317\u001b[0m         \u001b[0;32mraise\u001b[0m \u001b[0mNotImplementedError\u001b[0m\u001b[0;34m\u001b[0m\u001b[0;34m\u001b[0m\u001b[0m\n\u001b[1;32m    318\u001b[0m \u001b[0;34m\u001b[0m\u001b[0m\n\u001b[0;32m--> 319\u001b[0;31m     \u001b[0;32mdef\u001b[0m \u001b[0mdecode\u001b[0m\u001b[0;34m(\u001b[0m\u001b[0mself\u001b[0m\u001b[0;34m,\u001b[0m \u001b[0minput\u001b[0m\u001b[0;34m,\u001b[0m \u001b[0mfinal\u001b[0m\u001b[0;34m=\u001b[0m\u001b[0;32mFalse\u001b[0m\u001b[0;34m)\u001b[0m\u001b[0;34m:\u001b[0m\u001b[0;34m\u001b[0m\u001b[0;34m\u001b[0m\u001b[0m\n\u001b[0m\u001b[1;32m    320\u001b[0m         \u001b[0;31m# decode input (taking the buffer into account)\u001b[0m\u001b[0;34m\u001b[0m\u001b[0;34m\u001b[0m\u001b[0;34m\u001b[0m\u001b[0m\n\u001b[1;32m    321\u001b[0m         \u001b[0mdata\u001b[0m \u001b[0;34m=\u001b[0m \u001b[0mself\u001b[0m\u001b[0;34m.\u001b[0m\u001b[0mbuffer\u001b[0m \u001b[0;34m+\u001b[0m \u001b[0minput\u001b[0m\u001b[0;34m\u001b[0m\u001b[0;34m\u001b[0m\u001b[0m\n",
      "\u001b[0;31mKeyboardInterrupt\u001b[0m: "
     ]
    }
   ],
   "source": [
    "import sys\n",
    "import os\n",
    "import urllib\n",
    "sys.path.append(\"..\")\n",
    "#from utils.case import Case, DocketEntry, Document, Party\n",
    "import pandas as pd\n",
    "import csv\n",
    "\n",
    "DATA_LOCATION = \"../data/amazon-textract-textractor-master\"\n",
    "\n",
    "table_files = []\n",
    "total_explored = 0\n",
    "for file in os.listdir(DATA_LOCATION):\n",
    "    if file.endswith(\"tables.csv\"):\n",
    "        total_explored += 1\n",
    "        filename = os.path.join(DATA_LOCATION, file)\n",
    "        empty = True\n",
    "        with open(filename,'rt')as f:\n",
    "            data = csv.reader(f)\n",
    "            for row in data:\n",
    "                #print(row)\n",
    "                empty = False\n",
    "                break\n",
    "        #df = pd.read_csv(filename)\n",
    "        if not empty:\n",
    "            table_files.append(file)\n",
    "print(\"done\")\n",
    "print(\"total explored: \", total_explored)\n",
    "print(\"total kept: \", len(table_files))"
   ]
  },
  {
   "cell_type": "code",
   "execution_count": null,
   "metadata": {},
   "outputs": [],
   "source": [
    "#extra imports\n",
    "import string\n",
    "import numpy as np\n",
    "import re\n",
    "import pprint"
   ]
  },
  {
   "cell_type": "code",
   "execution_count": 418,
   "metadata": {},
   "outputs": [],
   "source": [
    "def getNumsFromString(item):\n",
    "    nums = []\n",
    "    num = ''\n",
    "    wordAfterNum = ''\n",
    "    dig = False\n",
    "    after = False\n",
    "    for c in item:\n",
    "        if (c.isdigit()):\n",
    "            dig = True\n",
    "            num += c\n",
    "        elif c == ',' and dig == True:\n",
    "            continue\n",
    "        elif c == '.' and dig == True:\n",
    "            num += c\n",
    "        elif dig == True:\n",
    "            try:\n",
    "                nums.append(float(num))\n",
    "            except:\n",
    "                pass\n",
    "            num = ''\n",
    "            dig = False\n",
    "            after = True\n",
    "        elif after == True:\n",
    "            if c.isalpha():\n",
    "                wordAfterNum += c\n",
    "            else:\n",
    "                after = False\n",
    "                wordAfterNum.replace(\" \", \"\")\n",
    "                \n",
    "                if wordAfterNum.lower() == \"billion\" or wordAfterNum.lower() == \"b\":\n",
    "                    nums[-1] *= 1000000000\n",
    "                if wordAfterNum.lower() == \"million\" or wordAfterNum.lower() == \"m\":\n",
    "                    nums[-1] *= 1000000\n",
    "                if wordAfterNum.lower() == \"thousand\":\n",
    "                    nums[-1] *= 1000\n",
    "                wordAfterNum = ''\n",
    "   \n",
    "    return nums"
   ]
  },
  {
   "cell_type": "code",
   "execution_count": 419,
   "metadata": {},
   "outputs": [],
   "source": [
    "def checkForNumbered(creditors):\n",
    "    nums = []\n",
    "    #print(\"hello from checkfornumbered\")\n",
    "    for s in creditors:\n",
    "        words = s.split()\n",
    "        word1 = words[0].replace('.', '')\n",
    "        #print(word1)\n",
    "        if word1.isdigit():\n",
    "            num = int(word1)\n",
    "            if num < 50:\n",
    "                nums.append(num)\n",
    "    numbered = True\n",
    "    toRemove = []\n",
    "    if len(nums) > 1:\n",
    "        prevNum = nums[0]\n",
    "        for i in range(1, len(nums)):\n",
    "            if nums[i] == prevNum + 1:\n",
    "                prevNum = nums[i]\n",
    "            else:\n",
    "                toRemove.append(nums[i])\n",
    "                \n",
    "        for num in toRemove:\n",
    "            nums.remove(num)\n",
    "        #print(nums)\n",
    "        if len(nums) < 2:\n",
    "            numbered = False\n",
    "            \n",
    "    else:\n",
    "        numbered = False\n",
    "    if numbered: #remove numbers\n",
    "        #print(\"numbered\")\n",
    "        for i, s in enumerate(creditors):\n",
    "            words = s.split()\n",
    "            word1 = words[0].replace('.', '')\n",
    "            if word1.isdigit():\n",
    "                num = int(word1)\n",
    "                if num in nums:\n",
    "                    words.pop(0)\n",
    "                    nums.remove(num)\n",
    "            s = ' '.join(words)\n",
    "            creditors[i] = s\n",
    "        "
   ]
  },
  {
   "cell_type": "code",
   "execution_count": 469,
   "metadata": {},
   "outputs": [],
   "source": [
    "acctNo = [\"account no\", \"acecunt no\", \"acct #\", \"acct no\", \"accoumnt no\", \n",
    "         \" account no\", \" acecunt no\", \" acct #\", \" acct no\", \" accoumnt no\", \"account number\"]\n",
    "creditNo = [\"creditor #\", \"credit tor #\", \"credi tor #\", \"credito #\", \"credito: #\",\n",
    "           \"creditor\", \"credit tor\", \"credi tor\", \"credito\"]"
   ]
  },
  {
   "cell_type": "code",
   "execution_count": 460,
   "metadata": {},
   "outputs": [],
   "source": [
    "def checkForAcctNo(creditors):\n",
    "    for i, creditor in enumerate(creditors):\n",
    "        for s in acctNo:\n",
    "            if creditor.lower().startswith(s):\n",
    "                creditor = creditor[len(s):]\n",
    "                numToRemove = 0\n",
    "                for c in creditor:\n",
    "                    if c == ' ' or c in string.punctuation:\n",
    "                        numToRemove += 1\n",
    "                    else:\n",
    "                        break\n",
    "                creditor = creditor[numToRemove:]\n",
    "                if len(creditor) > 0:\n",
    "                    if creditor[0].isdigit():\n",
    "                        words = creditor.split()\n",
    "                        words.pop(0)\n",
    "                        creditor = ' '.join(words)\n",
    "\n",
    "\n",
    "        creditors[i] = creditor\n",
    "                \n"
   ]
  },
  {
   "cell_type": "code",
   "execution_count": 454,
   "metadata": {},
   "outputs": [
    {
     "name": "stdout",
     "output_type": "stream",
     "text": [
      "['bleh']\n"
     ]
    }
   ],
   "source": [
    "l = [\"ACCOUNT NO.\", \"bleh\"]\n",
    "checkForAcctNo(l)\n",
    "print(l)"
   ]
  },
  {
   "cell_type": "code",
   "execution_count": 461,
   "metadata": {},
   "outputs": [],
   "source": [
    "def checkForCreditorNo(creditors):\n",
    "    for i, creditor in enumerate(creditors):\n",
    "        for s in creditNo:\n",
    "            if creditor.lower().startswith(s):\n",
    "                creditor = creditor[len(s):]\n",
    "                numToRemove = 0\n",
    "                for c in creditor:\n",
    "                    if c == ' ' or c in string.punctuation:\n",
    "                        numToRemove += 1\n",
    "                    else:\n",
    "                        break\n",
    "                creditor = creditor[numToRemove:]\n",
    "\n",
    "        creditors[i] = creditor"
   ]
  },
  {
   "cell_type": "code",
   "execution_count": 426,
   "metadata": {},
   "outputs": [
    {
     "name": "stdout",
     "output_type": "stream",
     "text": [
      "['Credi tor # : 22 Godfrey - Son Auto 2354 Gleason Avenue Bronx NY 10462']\n",
      "['22 Godfrey - Son Auto 2354 Gleason Avenue Bronx NY 10462']\n"
     ]
    }
   ],
   "source": [
    "creditors_test = [\"Credi tor # : 22 Godfrey - Son Auto 2354 Gleason Avenue Bronx NY 10462\"]\n",
    "print(creditors_test)\n",
    "checkForCreditorNo(creditors_test)\n",
    "print(creditors_test)"
   ]
  },
  {
   "cell_type": "code",
   "execution_count": 424,
   "metadata": {},
   "outputs": [],
   "source": [
    "not204words = [\"wearing apparel\", \"estimated\", \"cash on hand\", \"checking, savings\", \"b -\", \"c -\", \"d -\", \"e -\", \"f -\", \"g -\", \"h -\",\"i -\", \"j -\",\n",
    "              \"student loan obligations\", \"farming equipment\", \"itemize\"]\n",
    "wordsToDrop = [\"nan\", \"continuation sheets\", \"sheet no\", \"estimated\", \"total\", \n",
    "              \"name of creditor\", \"and complete\", \"mailing address including zip code\", \"unsecured nonpriority claims\"]"
   ]
  },
  {
   "cell_type": "code",
   "execution_count": 427,
   "metadata": {},
   "outputs": [],
   "source": [
    "def toRemove(creditors):\n",
    "    removing = []\n",
    "    for creditor in creditors:\n",
    "        for word in not204words:\n",
    "            if word in creditor.lower():\n",
    "                #print(\"returning false on word: \", word)\n",
    "                return False #not form 204\n",
    "        for word in wordsToDrop:\n",
    "            if word in creditor.lower():\n",
    "                #print(\"removing: \", word)\n",
    "                removing.append(creditor)\n",
    "    for creditor in removing:\n",
    "        try:\n",
    "            creditors.remove(creditor)\n",
    "        except Exception:\n",
    "            #if something was to be removed more than once, the E - 's in particular\n",
    "            pass\n",
    "        \n",
    "    return True"
   ]
  },
  {
   "cell_type": "code",
   "execution_count": 428,
   "metadata": {},
   "outputs": [],
   "source": [
    "poBoxWords = [\"po box\", \"p.o. box\", \"p o box\", \"p. o. box\"]\n",
    "numberWords = [\"one\", \"two\", \"three\", \"four\", \"five\", \"six\", \"seven\", \"eight\", \"nine\",\n",
    "           \"eleven\", ]\n",
    "addrIndic = [\"way\", \"plaza\", \"broadway\", \"building\", \"street\", \"st\", \"drive\", \"dr\", \n",
    "            \"place\", \"pl\", \"boulevard\", \"blvd\", \"rd\", \"road\", \"square\", \"sq\", \"center\", \"ctr\",\n",
    "            \"ave\", \"avenue\", \"suite\", \"lane\", \"ln\"]"
   ]
  },
  {
   "cell_type": "code",
   "execution_count": 462,
   "metadata": {},
   "outputs": [],
   "source": [
    "def cutOffAddresses(creditors):\n",
    "    for creditIndex, creditor in enumerate(creditors):\n",
    "        addressFound = False\n",
    "        for word in poBoxWords:\n",
    "            index = creditor.lower().find(word)\n",
    "            if index != -1:\n",
    "                creditor = creditor[:index]\n",
    "        words = creditor.split()\n",
    "        toremove = -1\n",
    "        numWords = len(words)\n",
    "        for i, word in enumerate(words):\n",
    "            word = word.lower()\n",
    "            word = word.translate(str.maketrans('', '', string.punctuation))\n",
    "            if(word.isdigit()):\n",
    "                toremove = i\n",
    "                break\n",
    "            elif word in numberWords:\n",
    "                addrFound = False\n",
    "                for j in range(1, 4):\n",
    "                    if i + j >= numWords:\n",
    "                        break\n",
    "                    else:\n",
    "                        if words[i + j].lower() in addrIndic:\n",
    "                            \n",
    "                            addrFound = True\n",
    "                            toremove = i\n",
    "                            break\n",
    "                if addrFound:\n",
    "                    break\n",
    "        if toremove > -1:\n",
    "            words = words[:toremove]\n",
    "        creditor = ' '.join(words)\n",
    "        creditors[creditIndex] = creditor\n",
    "    \n",
    "        "
   ]
  },
  {
   "cell_type": "code",
   "execution_count": 507,
   "metadata": {},
   "outputs": [],
   "source": [
    "states = ['alabama', 'alaska', 'american samoa', 'arizona', 'arkansas', 'california', 'colorado', 'connecticut', 'delaware', 'district of columbia', 'florida', 'georgia', 'guam', 'hawaii', 'idaho', 'illinois', 'indiana', 'iowa', 'kansas', 'kentucky', 'louisiana', 'maine', 'maryland', 'massachusetts', 'michigan', 'minnesota', 'minor outlying islands', 'mississippi', 'missouri', 'montana', 'nebraska', 'nevada', 'new hampshire', 'new jersey', 'new mexico', 'new york', 'north carolina', 'north dakota', 'northern mariana islands', 'ohio', 'oklahoma', 'oregon', 'pennsylvania', 'puerto rico', 'rhode island', 'south carolina', 'south dakota', 'tennessee', 'texas', 'u.s. virgin islands', 'utah', 'vermont', 'virginia', 'washington', 'west virginia', 'wisconsin', 'wyoming']"
   ]
  },
  {
   "cell_type": "code",
   "execution_count": 509,
   "metadata": {},
   "outputs": [],
   "source": [
    "def cityStateZip(creditors):\n",
    "    for creditIndex, creditor in enumerate(creditors):\n",
    "        words = creditor.split()\n",
    "        if len(words) != 0:\n",
    "            lastWord = words[-1]\n",
    "            z = re.match(\"^\\d{5}(-\\d{4})?$\", lastWord)\n",
    "            if z and len(words) < 7:\n",
    "                #print(\"deleting creditor: \", creditor)\n",
    "                creditor = \"\"\n",
    "            else:\n",
    "                t = re.match(\"^[A-Z][A-Z]$\", lastWord)\n",
    "                stateFound = False\n",
    "                if t:\n",
    "                    stateFound = True\n",
    "                else:\n",
    "                    if lastWord.lower() in states:\n",
    "                        stateFound = True\n",
    "                #print(\"matched: \", lastWord)\n",
    "                if len(words) > 1:\n",
    "                    secondToLast = words[-2]\n",
    "                    #print(secondToLast)\n",
    "                    #print(\",\" in secondToLast)\n",
    "                    #print(t)\n",
    "                    if stateFound and (\",\" in secondToLast):\n",
    "                        if (len(words) < 5):\n",
    "                            #print(\"deleting\")\n",
    "                            creditor = \"\"\n",
    "            creditors[creditIndex] = creditor\n",
    "\n",
    "\n",
    "        "
   ]
  },
  {
   "cell_type": "code",
   "execution_count": 503,
   "metadata": {},
   "outputs": [
    {
     "name": "stdout",
     "output_type": "stream",
     "text": [
      "['']\n"
     ]
    }
   ],
   "source": [
    "l = [\"Montgomery, NY\"]\n",
    "cityStateZip(l)\n",
    "print(l)"
   ]
  },
  {
   "cell_type": "code",
   "execution_count": 466,
   "metadata": {},
   "outputs": [],
   "source": [
    "def remBlanks(creditors):\n",
    "    while(\"\" in creditors) : \n",
    "        creditors.remove(\"\")"
   ]
  },
  {
   "cell_type": "code",
   "execution_count": 467,
   "metadata": {},
   "outputs": [],
   "source": [
    "import string\n",
    "\n",
    "def cleanupCreditors(creditors):\n",
    "    if not toRemove(creditors):\n",
    "        return False\n",
    "    checkForAcctNo(creditors)\n",
    "    remBlanks(creditors)\n",
    "    checkForNumbered(creditors) #will remove numbering if it exists\n",
    "    cutOffAddresses(creditors)\n",
    "    remBlanks(creditors)\n",
    "    cityStateZip(creditors)\n",
    "    remBlanks(creditors)\n",
    "    return True"
   ]
  },
  {
   "cell_type": "code",
   "execution_count": 527,
   "metadata": {},
   "outputs": [
    {
     "name": "stdout",
     "output_type": "stream",
     "text": [
      "all done ... again\n"
     ]
    }
   ],
   "source": [
    "i = 0\n",
    "#amountDict = {}\n",
    "forms = {}\n",
    "for file in table_files:\n",
    "    #print(file)\n",
    "    creditors = []\n",
    "    amounts = []\n",
    "    caseID = file.split('_')[0]\n",
    "    filename = os.path.join(DATA_LOCATION, file)\n",
    "    #if i > 0:\n",
    "        #break\n",
    "    try:\n",
    "        df = pd.read_csv(filename, skiprows=2) #skip over column headers too, since they might be malformed\n",
    "    except Exception:\n",
    "        pass\n",
    "    if df.empty:\n",
    "        continue\n",
    "    col_1 = df.iloc[:,0] #should be first column\n",
    "    for item in col_1:\n",
    "        #print(\"before: \", item)\n",
    "        creditors.append(str(item))\n",
    "    ok = cleanupCreditors(creditors) #cleanup creditors returns false if this is not a form 204\n",
    "    #print(\"ok: \", ok)\n",
    "    if not ok:\n",
    "        #print(\"moving on!\")\n",
    "        continue\n",
    "    #for item in creditors:\n",
    "        #print(\"after: \", item)\n",
    "    #for creditor in creditors:\n",
    "        #print(\"creditor: \", creditor)\n",
    "    col_last = df.iloc[:,-1]\n",
    "    for item in col_last:\n",
    "        if isinstance(item, str):\n",
    "            nums = getNumsFromString(item)\n",
    "            amounts.append(nums)\n",
    "            #print(\"nums: \", nums)\n",
    "    if caseID in forms:\n",
    "        for creditor in creditors:\n",
    "            if creditor != \"\":\n",
    "                forms[caseID][0].append(creditor)\n",
    "            \n",
    "        for amountList in amounts:\n",
    "            forms[caseID][1].append(amountList)\n",
    "    else:\n",
    "        forms[caseID] = (creditors, amounts)\n",
    "    i += 1\n",
    "print(\"all done ... again\")"
   ]
  },
  {
   "cell_type": "code",
   "execution_count": 539,
   "metadata": {},
   "outputs": [
    {
     "name": "stdout",
     "output_type": "stream",
     "text": [
      "done\n"
     ]
    }
   ],
   "source": [
    "import json\n",
    "\n",
    "with open('../data/final_forms.txt', 'w') as outfile:\n",
    "    json.dump(forms, outfile)\n",
    "print(\"done\")"
   ]
  },
  {
   "cell_type": "code",
   "execution_count": null,
   "metadata": {},
   "outputs": [],
   "source": []
  }
 ],
 "metadata": {
  "kernelspec": {
   "display_name": "Python 3",
   "language": "python",
   "name": "python3"
  },
  "language_info": {
   "codemirror_mode": {
    "name": "ipython",
    "version": 3
   },
   "file_extension": ".py",
   "mimetype": "text/x-python",
   "name": "python",
   "nbconvert_exporter": "python",
   "pygments_lexer": "ipython3",
   "version": "3.7.4"
  }
 },
 "nbformat": 4,
 "nbformat_minor": 2
}
