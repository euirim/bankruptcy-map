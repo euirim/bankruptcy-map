{
 "cells": [
  {
   "cell_type": "code",
   "execution_count": null,
   "metadata": {},
   "outputs": [],
   "source": [
    "import sys\n",
    "import os\n",
    "sys.path.append(\"..\")\n",
    "from utils.case import Case, DocketEntry, Document, Party\n",
    "\n",
    "DATA_LOCATION = \"../data/samples\"\n",
    "\n",
    "case_files = []\n",
    "for file in os.listdir(DATA_LOCATION):\n",
    "    if file.endswith(\".json\"):\n",
    "        case_files.append(os.path.join(DATA_LOCATION, file))\n"
   ]
  },
  {
   "cell_type": "code",
   "execution_count": null,
   "metadata": {},
   "outputs": [],
   "source": [
    "def FindDurationFromCase(case):\n",
    "    newest_date = \"\"\n",
    "    entries = case.get_entries()\n",
    "    if(len(entries) > 1):\n",
    "        oldest_date = entries[0].get_date_filed()\n",
    "        newest_date = entries[1].get_date_filed()\n",
    "        for i in range(2, len(entries)):\n",
    "            entry_date = entries[i].get_date_filed()\n",
    "            if(entry_date > newest_date):\n",
    "                newest_date = entry_date\n",
    "        duration = newest_date - oldest_date\n",
    "        return duration.days\n",
    "    elif(len(entries) == 1):\n",
    "        oldest_date = entries[0].get_date_filed()\n",
    "        newest_date = entries[0].get_date_modified()\n",
    "        duration = newest_date - oldest_date\n",
    "        return duration.days\n",
    "                         \n",
    "    #In the case no duration is found, return None\n",
    "    return None"
   ]
  },
  {
   "cell_type": "code",
   "execution_count": null,
   "metadata": {},
   "outputs": [],
   "source": [
    "for file in case_files:\n",
    "    case = Case(file)\n",
    "    print(\"Case num: \")\n",
    "    print(case.get_id())\n",
    "    print(FindDurationFromCase(case))"
   ]
  },
  {
   "cell_type": "code",
   "execution_count": null,
   "metadata": {},
   "outputs": [],
   "source": []
  }
 ],
 "metadata": {
  "kernelspec": {
   "display_name": "Python 3",
   "language": "python",
   "name": "python3"
  },
  "language_info": {
   "codemirror_mode": {
    "name": "ipython",
    "version": 3
   },
   "file_extension": ".py",
   "mimetype": "text/x-python",
   "name": "python",
   "nbconvert_exporter": "python",
   "pygments_lexer": "ipython3",
   "version": "3.7.4"
  }
 },
 "nbformat": 4,
 "nbformat_minor": 2
}
